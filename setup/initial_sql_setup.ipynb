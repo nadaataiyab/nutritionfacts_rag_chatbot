{
 "cells": [
  {
   "cell_type": "markdown",
   "metadata": {},
   "source": [
    "# About\n",
    "- Create SQL Database and add initial load of transcripts"
   ]
  },
  {
   "cell_type": "markdown",
   "metadata": {},
   "source": [
    "## Imports"
   ]
  },
  {
   "cell_type": "code",
   "execution_count": 9,
   "metadata": {},
   "outputs": [],
   "source": [
    "import sys\n",
    "import os\n",
    "import sqlite3\n",
    "import pandas as pd\n",
    "\n",
    "# Assuming your config.py is in the project root directory\n",
    "sys.path.append(os.path.abspath('..'))\n",
    "\n",
    "from config import SQL_DATABASE_PATH"
   ]
  },
  {
   "cell_type": "markdown",
   "metadata": {},
   "source": [
    "## Create Database\n"
   ]
  },
  {
   "cell_type": "code",
   "execution_count": 7,
   "metadata": {},
   "outputs": [
    {
     "name": "stdout",
     "output_type": "stream",
     "text": [
      "Database '/Users/nadaa/Documents/code/nutritionfacts_chatbot/nutritionfacts_rag_chatbot/data/nutrition_data.db' created and connected successfully.\n"
     ]
    }
   ],
   "source": [
    "\n",
    "# Specify the name of the database file you want to create\n",
    "database_path = SQL_DATABASE_PATH\n",
    "conn = sqlite3.connect(database_path)\n",
    "\n",
    "print(f\"Database '{database_path}' created and connected successfully.\")\n"
   ]
  },
  {
   "cell_type": "markdown",
   "metadata": {},
   "source": [
    "## Load Initial Batch of Transcript Data into Database"
   ]
  },
  {
   "cell_type": "code",
   "execution_count": 14,
   "metadata": {},
   "outputs": [
    {
     "data": {
      "text/plain": [
       "2679"
      ]
     },
     "execution_count": 14,
     "metadata": {},
     "output_type": "execute_result"
    }
   ],
   "source": [
    "# Load CSV into DataFrame\n",
    "csv_file_path = '../data/raw_data/transcripts_all_2024-08-19.csv'\n",
    "df = pd.read_csv(csv_file_path, index_col=0)\n",
    "\n",
    "# Write DataFrame to SQLite Table\n",
    "table_name = 'youtube_transcripts'\n",
    "# df.to_sql(table_name, conn, if_exists='replace', index=False)\n"
   ]
  },
  {
   "cell_type": "code",
   "execution_count": 15,
   "metadata": {},
   "outputs": [],
   "source": [
    "# Verify the Data (Optional)\n",
    "query = f\"SELECT * FROM {table_name} LIMIT 5\"\n",
    "result = pd.read_sql(query, conn)\n"
   ]
  },
  {
   "cell_type": "code",
   "execution_count": 16,
   "metadata": {},
   "outputs": [
    {
     "data": {
      "text/html": [
       "<div>\n",
       "<style scoped>\n",
       "    .dataframe tbody tr th:only-of-type {\n",
       "        vertical-align: middle;\n",
       "    }\n",
       "\n",
       "    .dataframe tbody tr th {\n",
       "        vertical-align: top;\n",
       "    }\n",
       "\n",
       "    .dataframe thead th {\n",
       "        text-align: right;\n",
       "    }\n",
       "</style>\n",
       "<table border=\"1\" class=\"dataframe\">\n",
       "  <thead>\n",
       "    <tr style=\"text-align: right;\">\n",
       "      <th></th>\n",
       "      <th>videoId</th>\n",
       "      <th>title</th>\n",
       "      <th>description</th>\n",
       "      <th>publishedAt</th>\n",
       "      <th>transcript</th>\n",
       "    </tr>\n",
       "  </thead>\n",
       "  <tbody>\n",
       "    <tr>\n",
       "      <th>0</th>\n",
       "      <td>7q3U_x_a6cA</td>\n",
       "      <td>Is FDA-Approved Bioidentical Hormone Replaceme...</td>\n",
       "      <td>As of 2019, there are urine-free FDA-approved ...</td>\n",
       "      <td>2024-08-19T11:59:57Z</td>\n",
       "      <td>\"Is FDA-Approved Bioidentical Hormone Replacem...</td>\n",
       "    </tr>\n",
       "    <tr>\n",
       "      <th>1</th>\n",
       "      <td>2zqc8vrMRqM</td>\n",
       "      <td>Friday Favorite: Benefits of Garlic for Fighti...</td>\n",
       "      <td>Raw garlic is compared to roasted, stir-fried,...</td>\n",
       "      <td>2024-08-16T11:59:56Z</td>\n",
       "      <td>\"Benefits of Garlic for Fighting Cancer and th...</td>\n",
       "    </tr>\n",
       "    <tr>\n",
       "      <th>2</th>\n",
       "      <td>CLfiJNWuZ84</td>\n",
       "      <td>Podcast: Fluoridation in Water (Part 2)</td>\n",
       "      <td>Why I changed my mind on fluoridation. This ep...</td>\n",
       "      <td>2024-08-15T11:59:53Z</td>\n",
       "      <td>Did you ever wonder if certain foods have a di...</td>\n",
       "    </tr>\n",
       "    <tr>\n",
       "      <th>3</th>\n",
       "      <td>x9d4KwxNwi4</td>\n",
       "      <td>I recommend eating nuts at least 3 times/week ...</td>\n",
       "      <td>New subscribers to our e-newsletter always rec...</td>\n",
       "      <td>2024-08-15T05:00:37Z</td>\n",
       "      <td>the five deadliest things about our diet are i...</td>\n",
       "    </tr>\n",
       "    <tr>\n",
       "      <th>4</th>\n",
       "      <td>lV261tApWVg</td>\n",
       "      <td>How to Prevent Wrinkles with Diet</td>\n",
       "      <td>The evidence supports the recommendation to fo...</td>\n",
       "      <td>2024-08-14T11:59:54Z</td>\n",
       "      <td>\"How to Prevent Wrinkles with Diet\" \"Skin Wrin...</td>\n",
       "    </tr>\n",
       "  </tbody>\n",
       "</table>\n",
       "</div>"
      ],
      "text/plain": [
       "       videoId                                              title  \\\n",
       "0  7q3U_x_a6cA  Is FDA-Approved Bioidentical Hormone Replaceme...   \n",
       "1  2zqc8vrMRqM  Friday Favorite: Benefits of Garlic for Fighti...   \n",
       "2  CLfiJNWuZ84            Podcast: Fluoridation in Water (Part 2)   \n",
       "3  x9d4KwxNwi4  I recommend eating nuts at least 3 times/week ...   \n",
       "4  lV261tApWVg                  How to Prevent Wrinkles with Diet   \n",
       "\n",
       "                                         description           publishedAt  \\\n",
       "0  As of 2019, there are urine-free FDA-approved ...  2024-08-19T11:59:57Z   \n",
       "1  Raw garlic is compared to roasted, stir-fried,...  2024-08-16T11:59:56Z   \n",
       "2  Why I changed my mind on fluoridation. This ep...  2024-08-15T11:59:53Z   \n",
       "3  New subscribers to our e-newsletter always rec...  2024-08-15T05:00:37Z   \n",
       "4  The evidence supports the recommendation to fo...  2024-08-14T11:59:54Z   \n",
       "\n",
       "                                          transcript  \n",
       "0  \"Is FDA-Approved Bioidentical Hormone Replacem...  \n",
       "1  \"Benefits of Garlic for Fighting Cancer and th...  \n",
       "2  Did you ever wonder if certain foods have a di...  \n",
       "3  the five deadliest things about our diet are i...  \n",
       "4  \"How to Prevent Wrinkles with Diet\" \"Skin Wrin...  "
      ]
     },
     "execution_count": 16,
     "metadata": {},
     "output_type": "execute_result"
    }
   ],
   "source": [
    "result"
   ]
  },
  {
   "cell_type": "code",
   "execution_count": 18,
   "metadata": {},
   "outputs": [],
   "source": [
    "# Close the Connection\n",
    "conn.close()"
   ]
  },
  {
   "cell_type": "code",
   "execution_count": null,
   "metadata": {},
   "outputs": [],
   "source": []
  }
 ],
 "metadata": {
  "kernelspec": {
   "display_name": "nutritionfacts_rag_chatbot-oa4gidrG",
   "language": "python",
   "name": "python3"
  },
  "language_info": {
   "codemirror_mode": {
    "name": "ipython",
    "version": 3
   },
   "file_extension": ".py",
   "mimetype": "text/x-python",
   "name": "python",
   "nbconvert_exporter": "python",
   "pygments_lexer": "ipython3",
   "version": "3.11.9"
  }
 },
 "nbformat": 4,
 "nbformat_minor": 2
}
